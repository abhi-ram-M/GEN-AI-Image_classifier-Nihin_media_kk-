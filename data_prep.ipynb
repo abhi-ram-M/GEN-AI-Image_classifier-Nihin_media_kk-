{
 "cells": [
  {
   "cell_type": "code",
   "execution_count": null,
   "id": "083b883a",
   "metadata": {},
   "outputs": [
    {
     "name": "stdout",
     "output_type": "stream",
     "text": [
      "Moved 600 images to: datasets\\train_medical\n"
     ]
    }
   ],
   "source": [
    "import os\n",
    "import random\n",
    "import shutil\n",
    "from pathlib import Path\n",
    "\n",
    "def sample_move_images(src_dir, dst_dir, n_images,\n",
    "                       exts=(\".jpg\", \".jpeg\", \".png\", \".bmp\", \".tif\", \".tiff\"),\n",
    "                       seed=42):\n",
    "    random.seed(seed)\n",
    "    src_dir = Path(src_dir)\n",
    "    dst_dir = Path(dst_dir)\n",
    "    dst_dir.mkdir(parents=True, exist_ok=True)\n",
    "\n",
    "    all_imgs = [p for p in src_dir.rglob(\"*\") if p.suffix.lower() in exts]\n",
    "    if not all_imgs:\n",
    "        print(\"No images found in source.\")\n",
    "        return\n",
    "\n",
    "    k = min(n_images, len(all_imgs))\n",
    "    picked = random.sample(all_imgs, k)\n",
    "\n",
    "    moved = 0\n",
    "    for p in picked:\n",
    "        dst_path = dst_dir / p.name\n",
    "        if dst_path.exists():\n",
    "            stem, ext = dst_path.stem, dst_path.suffix\n",
    "            dst_path = dst_dir / f\"{stem}_{random.randint(0, 10**9)}{ext}\"\n",
    "        shutil.move(str(p), str(dst_path))\n",
    "        moved += 1\n",
    "\n",
    "    print(f\"Moved {moved} images to: {dst_dir}\")\n",
    "\n",
    "sample_move_images(\"datasets\\\\derm\\\\HAM10000_images_part_1\",\"datasets\\\\train_medical\",n_images=600)"
   ]
  },
  {
   "cell_type": "code",
   "execution_count": 2,
   "id": "de59cbac",
   "metadata": {},
   "outputs": [
    {
     "name": "stdout",
     "output_type": "stream",
     "text": [
      "Moved 600 images to: datasets\\train_medical\n"
     ]
    }
   ],
   "source": [
    "sample_move_images(\"datasets\\\\retina\\\\train_images\",\"datasets\\\\train_medical\",n_images=600)"
   ]
  },
  {
   "cell_type": "code",
   "execution_count": 3,
   "id": "ef2c8b4d",
   "metadata": {},
   "outputs": [
    {
     "name": "stdout",
     "output_type": "stream",
     "text": [
      "Moved 400 images to: datasets\\train_medical\n",
      "Moved 150 images to: datasets\\train_medical\n",
      "Moved 50 images to: datasets\\train_medical\n"
     ]
    }
   ],
   "source": [
    "sample_move_images(\"datasets\\\\ultrasound\\Dataset_BUSI_with_GT\\\\benign\",\"datasets\\\\train_medical\",n_images=400)\n",
    "sample_move_images(\"datasets\\\\ultrasound\\Dataset_BUSI_with_GT\\\\malignant\",\"datasets\\\\train_medical\",n_images=150)\n",
    "sample_move_images(\"datasets\\\\ultrasound\\Dataset_BUSI_with_GT\\\\normal\",\"datasets\\\\train_medical\",n_images=50)\n"
   ]
  },
  {
   "cell_type": "code",
   "execution_count": null,
   "id": "544e0fb0",
   "metadata": {},
   "outputs": [],
   "source": [
    "import os\n",
    "from pathlib import Path\n",
    "\n",
    "FOLDER = r\"C:\\Users\\abhir\\Image_classifier_nihin_media_kk\\datasets\\brain_ct_scans\\files\\tumor\"\n",
    "\n",
    "folder = Path(FOLDER)\n",
    "for p in folder.iterdir():\n",
    "    if p.is_file():\n",
    "        stem = p.stem\n",
    "        ext = p.suffix\n",
    "        new_name = f\"{stem}tumor{ext}\"\n",
    "        new_path = p.with_name(new_name)\n",
    "        if not new_path.exists():  # avoid collisions\n",
    "            p.rename(new_path)\n",
    "        else:\n",
    "            i = 1\n",
    "            while True:\n",
    "                candidate = p.with_name(f\"{stem}ns_{i}{ext}\")\n",
    "                if not candidate.exists():\n",
    "                    p.rename(candidate)\n",
    "                    break"
   ]
  },
  {
   "cell_type": "code",
   "execution_count": 8,
   "id": "956b371c",
   "metadata": {},
   "outputs": [
    {
     "name": "stdout",
     "output_type": "stream",
     "text": [
      "Moved 75 images to: datasets\\train_medical\n",
      "Moved 75 images to: datasets\\train_medical\n",
      "Moved 75 images to: datasets\\train_medical\n"
     ]
    }
   ],
   "source": [
    "sample_move_images(\"datasets\\\\brain_ct_scans\\\\files\\\\tumor\",\"datasets\\\\train_medical\",n_images=75)\n",
    "sample_move_images(\"datasets\\\\brain_ct_scans\\\\files\\\\cancer\",\"datasets\\\\train_medical\",n_images=75)\n",
    "sample_move_images(\"datasets\\\\brain_ct_scans\\\\files\\\\aneurysm\",\"datasets\\\\train_medical\",n_images=75)"
   ]
  },
  {
   "cell_type": "code",
   "execution_count": 11,
   "id": "c2d2ef2a",
   "metadata": {},
   "outputs": [
    {
     "name": "stdout",
     "output_type": "stream",
     "text": [
      "Moved 300 images to: datasets\\train_medical\n",
      "Moved 300 images to: datasets\\train_medical\n"
     ]
    }
   ],
   "source": [
    "sample_move_images(src_dir=\"datasets\\\\xray\\\\COVID-19_Radiography_Dataset\\\\Lung_Opacity\\\\images\",dst_dir=\"datasets\\\\train_medical\",n_images=300)\n",
    "sample_move_images(src_dir=\"datasets\\\\xray\\\\COVID-19_Radiography_Dataset\\\\Normal\\\\images\",dst_dir=\"datasets\\\\train_medical\",n_images=300)"
   ]
  },
  {
   "cell_type": "code",
   "execution_count": 13,
   "id": "afb5029e",
   "metadata": {},
   "outputs": [
    {
     "name": "stdout",
     "output_type": "stream",
     "text": [
      "Moved 200 images to: datasets\\train_non_medical\n",
      "Moved 200 images to: datasets\\train_non_medical\n",
      "Moved 200 images to: datasets\\train_non_medical\n",
      "Moved 200 images to: datasets\\train_non_medical\n",
      "Moved 200 images to: datasets\\train_non_medical\n",
      "Moved 200 images to: datasets\\train_non_medical\n",
      "Moved 200 images to: datasets\\train_non_medical\n",
      "Moved 200 images to: datasets\\train_non_medical\n",
      "Moved 200 images to: datasets\\train_non_medical\n",
      "Moved 200 images to: datasets\\train_non_medical\n",
      "Moved 200 images to: datasets\\train_non_medical\n",
      "Moved 200 images to: datasets\\train_non_medical\n",
      "Moved 200 images to: datasets\\train_non_medical\n",
      "Moved 200 images to: datasets\\train_non_medical\n",
      "Moved 200 images to: datasets\\train_non_medical\n",
      "Moved 200 images to: datasets\\train_non_medical\n",
      "Moved 200 images to: datasets\\train_non_medical\n",
      "Moved 200 images to: datasets\\train_non_medical\n"
     ]
    }
   ],
   "source": [
    "list_nat = ['airplane','car','cat','dog','flower','fruit','motorbike','person']\n",
    "list_cifar_10 = ['airplane','automobile','bird','cat','deer','dog','frog','horse','ship','truck']\n",
    "for i in list_nat:  \n",
    "    sample_move_images(src_dir=f\"C:\\\\Users\\\\abhir\\\\Image_classifier_nihin_media_kk\\\\datasets\\\\nature_dataset\\\\data\\\\natural_images\\\\\"+i\n",
    "                       ,dst_dir=\"datasets\\\\train_non_medical\",\n",
    "                       n_images=200)\n",
    "for k in list_cifar_10:\n",
    "    sample_move_images(src_dir=f\"C:\\\\Users\\\\abhir\\\\Image_classifier_nihin_media_kk\\\\datasets\\\\\\cifar10\\\\cifar10\\\\train\\\\\"+k\n",
    "                       ,dst_dir=\"datasets\\\\train_non_medical\",\n",
    "                       n_images=200)"
   ]
  },
  {
   "cell_type": "code",
   "execution_count": 14,
   "id": "88aa8620",
   "metadata": {},
   "outputs": [
    {
     "name": "stdout",
     "output_type": "stream",
     "text": [
      "Moved 300 images to: datasets\\train_medical\n",
      "Moved 300 images to: datasets\\train_medical\n",
      "Moved 30 images to: datasets\\train_medical\n",
      "Moved 50 images to: datasets\\train_medical\n",
      "Moved 70 images to: datasets\\train_medical\n",
      "Moved 8 images to: datasets\\train_medical\n",
      "Moved 9 images to: datasets\\train_medical\n",
      "Moved 15 images to: datasets\\train_medical\n",
      "Moved 150 images to: datasets\\train_medical\n",
      "Moved 150 images to: datasets\\train_medical\n"
     ]
    }
   ],
   "source": [
    "sample_move_images(\"datasets\\\\derm\\\\HAM10000_images_part_2\",\"datasets\\\\train_medical\",n_images=300)\n",
    "sample_move_images(\"datasets\\\\retina\\\\test_images\",\"datasets\\\\train_medical\",n_images=300)\n",
    "sample_move_images(\"datasets\\\\ultrasound\\Dataset_BUSI_with_GT\\\\benign\",\"datasets\\\\train_medical\",n_images=30)\n",
    "sample_move_images(\"datasets\\\\ultrasound\\Dataset_BUSI_with_GT\\\\malignant\",\"datasets\\\\train_medical\",n_images=50)\n",
    "sample_move_images(\"datasets\\\\ultrasound\\Dataset_BUSI_with_GT\\\\normal\",\"datasets\\\\train_medical\",n_images=70)\n",
    "sample_move_images(\"datasets\\\\brain_ct_scans\\\\files\\\\tumor\",\"datasets\\\\train_medical\",n_images=8)\n",
    "sample_move_images(\"datasets\\\\brain_ct_scans\\\\files\\\\cancer\",\"datasets\\\\train_medical\",n_images=9)\n",
    "sample_move_images(\"datasets\\\\brain_ct_scans\\\\files\\\\aneurysm\",\"datasets\\\\train_medical\",n_images=15)\n",
    "sample_move_images(src_dir=\"datasets\\\\xray\\\\COVID-19_Radiography_Dataset\\\\COVID\\\\images\",dst_dir=\"datasets\\\\train_medical\",n_images=150)\n",
    "sample_move_images(src_dir=\"datasets\\\\xray\\\\COVID-19_Radiography_Dataset\\\\Viral Pneumonia\\\\images\",dst_dir=\"datasets\\\\train_medical\",n_images=150)\n",
    "\n"
   ]
  },
  {
   "cell_type": "code",
   "execution_count": 15,
   "id": "796adce8",
   "metadata": {},
   "outputs": [
    {
     "name": "stdout",
     "output_type": "stream",
     "text": [
      "Moved 99 images to: datasets\\train_non_medical\n",
      "Moved 99 images to: datasets\\train_non_medical\n",
      "Moved 99 images to: datasets\\train_non_medical\n",
      "Moved 99 images to: datasets\\train_non_medical\n",
      "Moved 99 images to: datasets\\train_non_medical\n",
      "Moved 99 images to: datasets\\train_non_medical\n",
      "Moved 99 images to: datasets\\train_non_medical\n",
      "Moved 99 images to: datasets\\train_non_medical\n",
      "Moved 99 images to: datasets\\train_non_medical\n",
      "Moved 99 images to: datasets\\train_non_medical\n",
      "Moved 99 images to: datasets\\train_non_medical\n",
      "Moved 99 images to: datasets\\train_non_medical\n",
      "Moved 99 images to: datasets\\train_non_medical\n",
      "Moved 99 images to: datasets\\train_non_medical\n",
      "Moved 99 images to: datasets\\train_non_medical\n",
      "Moved 99 images to: datasets\\train_non_medical\n",
      "Moved 99 images to: datasets\\train_non_medical\n",
      "Moved 99 images to: datasets\\train_non_medical\n"
     ]
    }
   ],
   "source": [
    "list_nat = ['airplane','car','cat','dog','flower','fruit','motorbike','person']\n",
    "list_cifar_10 = ['airplane','automobile','bird','cat','deer','dog','frog','horse','ship','truck']\n",
    "for i in list_nat:  \n",
    "    sample_move_images(src_dir=f\"C:\\\\Users\\\\abhir\\\\Image_classifier_nihin_media_kk\\\\datasets\\\\nature_dataset\\\\data\\\\natural_images\\\\\"+i\n",
    "                       ,dst_dir=\"datasets\\\\train_non_medical\",\n",
    "                       n_images=99)\n",
    "for k in list_cifar_10:\n",
    "    sample_move_images(src_dir=f\"C:\\\\Users\\\\abhir\\\\Image_classifier_nihin_media_kk\\\\datasets\\\\\\cifar10\\\\cifar10\\\\train\\\\\"+k\n",
    "                       ,dst_dir=\"datasets\\\\train_non_medical\",\n",
    "                       n_images=99)"
   ]
  },
  {
   "cell_type": "code",
   "execution_count": null,
   "id": "6fd8bf5b",
   "metadata": {},
   "outputs": [],
   "source": []
  }
 ],
 "metadata": {
  "kernelspec": {
   "display_name": "Python 3",
   "language": "python",
   "name": "python3"
  },
  "language_info": {
   "codemirror_mode": {
    "name": "ipython",
    "version": 3
   },
   "file_extension": ".py",
   "mimetype": "text/x-python",
   "name": "python",
   "nbconvert_exporter": "python",
   "pygments_lexer": "ipython3",
   "version": "3.11.0"
  }
 },
 "nbformat": 4,
 "nbformat_minor": 5
}
