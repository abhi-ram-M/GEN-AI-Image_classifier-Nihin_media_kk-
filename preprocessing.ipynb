{
 "cells": [
  {
   "cell_type": "code",
   "execution_count": 2,
   "id": "74d8e17d",
   "metadata": {},
   "outputs": [],
   "source": [
    "import os,random,csv\n",
    "from pathlib import Path\n",
    "from PIL import Image"
   ]
  },
  {
   "cell_type": "code",
   "execution_count": null,
   "id": "641db54f",
   "metadata": {},
   "outputs": [],
   "source": [
    "random.seed(42)\n",
    "MED_ROOT = Path(\"datasets//medical\")\n",
    "NON_ROOT = Path(\"datasets//non_medical\")\n",
    "OUT_ROOT = Path(\"datasets//clean_data\")\n",
    "IMG_EXTS = {\".jpg\", \".jpeg\", \".png\", \".bmp\", \".tif\", \".tiff\"}\n",
    "\n",
    "SPLITS = 0.8, 0.1, 0.1\n",
    "TARGET_SIZE = (224, 224)\n",
    "CONVERT_TO_RGB = True"
   ]
  },
  {
   "cell_type": "code",
   "execution_count": 6,
   "id": "90d48da2",
   "metadata": {},
   "outputs": [
    {
     "name": "stdout",
     "output_type": "stream",
     "text": [
      "[info] Using 3707 medical and 3707 non_medical images.\n",
      "[write] train...\n",
      "[write] val...\n",
      "[write] test...\n",
      "[done] Cleaned dataset is under data_clean/(train|val|test)/(medical|non_medical)\n"
     ]
    }
   ],
   "source": [
    "def list_images(root: Path):\n",
    "    return [p for p in root.rglob(\"*\") if p.suffix.lower() in IMG_EXTS]\n",
    "\n",
    "def ensure_dir(p: Path): p.mkdir(parents=True, exist_ok=True)\n",
    "\n",
    "def save_img(src: Path, dst: Path):\n",
    "    img = Image.open(src)\n",
    "    if CONVERT_TO_RGB: img = img.convert(\"RGB\")\n",
    "    img = img.resize(TARGET_SIZE, Image.BILINEAR)\n",
    "    img.save(dst)\n",
    "\n",
    "def split_indices(n, train, val, test):\n",
    "    idxs = list(range(n)); random.shuffle(idxs)\n",
    "    n_tr = int(train*n); n_va = int(val*n)\n",
    "    return idxs[:n_tr], idxs[n_tr:n_tr+n_va], idxs[n_tr+n_va:]\n",
    "\n",
    "def write_split(files, split, cls):\n",
    "    out_dir = OUT_ROOT / split / cls\n",
    "    ensure_dir(out_dir)\n",
    "    for f in files:\n",
    "        save_img(f, out_dir / f.name)\n",
    "\n",
    "def write_manifest(split):\n",
    "    rows = []\n",
    "    for cls, label in [(\"medical\", 1), (\"non_medical\", 0)]:\n",
    "        for p in (OUT_ROOT / split / cls).rglob(\"*\"):\n",
    "            if p.suffix.lower() in IMG_EXTS:\n",
    "                rows.append([str(p.resolve()), label])\n",
    "    with open(OUT_ROOT / f\"{split}_manifest.csv\", \"w\", newline=\"\") as f:\n",
    "        w = csv.writer(f); w.writerow([\"path\",\"label\"]); w.writerows(rows)\n",
    "\n",
    "def split_and_map(files, train, val, test):\n",
    "    n = len(files)\n",
    "    tr, va, te = split_indices(n, train, val, test)\n",
    "    return [files[i] for i in tr], [files[i] for i in va], [files[i] for i in te]\n",
    "\n",
    "def main():\n",
    "    med_files = list_images(MED_ROOT)\n",
    "    non_files = list_images(NON_ROOT)\n",
    "    if not med_files or not non_files:\n",
    "        raise RuntimeError(\"No images found. Check MED_ROOT and NON_ROOT.\")\n",
    "\n",
    "    n = min(len(med_files), len(non_files))\n",
    "    random.shuffle(med_files); med_files = med_files[:n]\n",
    "    random.shuffle(non_files); non_files = non_files[:n]\n",
    "    print(f\"[info] Using {n} medical and {n} non_medical images.\")\n",
    "\n",
    "    train, val, test = SPLITS\n",
    "    med_tr, med_va, med_te = split_and_map(med_files, train, val, test)\n",
    "    non_tr, non_va, non_te = split_and_map(non_files, train, val, test)\n",
    "\n",
    "    print(\"[write] train...\"); write_split(med_tr, \"train\", \"medical\"); write_split(non_tr, \"train\", \"non_medical\")\n",
    "    print(\"[write] val...\"  ); write_split(med_va, \"val\",   \"medical\"); write_split(non_va, \"val\",   \"non_medical\")\n",
    "    print(\"[write] test...\" ); write_split(med_te, \"test\",  \"medical\"); write_split(non_te, \"test\",  \"non_medical\")\n",
    "\n",
    "    for split in [\"train\",\"val\",\"test\"]:\n",
    "        write_manifest(split)\n",
    "\n",
    "    print(\"[done] Cleaned dataset is under data_clean/(train|val|test)/(medical|non_medical)\")\n",
    "if __name__ == \"__main__\":\n",
    "    main()"
   ]
  },
  {
   "cell_type": "markdown",
   "id": "d21ac4de",
   "metadata": {},
   "source": []
  },
  {
   "cell_type": "code",
   "execution_count": null,
   "id": "04f56154",
   "metadata": {},
   "outputs": [],
   "source": []
  }
 ],
 "metadata": {
  "kernelspec": {
   "display_name": "py312",
   "language": "python",
   "name": "py312"
  },
  "language_info": {
   "codemirror_mode": {
    "name": "ipython",
    "version": 3
   },
   "file_extension": ".py",
   "mimetype": "text/x-python",
   "name": "python",
   "nbconvert_exporter": "python",
   "pygments_lexer": "ipython3",
   "version": "3.13.1"
  }
 },
 "nbformat": 4,
 "nbformat_minor": 5
}
