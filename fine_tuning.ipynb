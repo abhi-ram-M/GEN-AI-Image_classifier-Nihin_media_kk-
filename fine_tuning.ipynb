{
 "cells": [
  {
   "cell_type": "code",
   "execution_count": 3,
   "id": "edd35461",
   "metadata": {},
   "outputs": [],
   "source": [
    "import os\n",
    "import torch\n",
    "import torch.nn as nn\n",
    "import torch.optim as optim\n",
    "from torch.utils.data import DataLoader\n",
    "from torchvision.datasets import ImageFolder\n",
    "from sklearn.metrics import classification_report, confusion_matrix\n",
    "import numpy as np\n",
    "import clip"
   ]
  },
  {
   "cell_type": "code",
   "execution_count": 4,
   "id": "f0f2b3ca",
   "metadata": {},
   "outputs": [
    {
     "name": "stdout",
     "output_type": "stream",
     "text": [
      "Device: cuda\n"
     ]
    }
   ],
   "source": [
    "DATA_ROOT = \"datasets/clean_data\"\n",
    "MODEL_NAME = \"ViT-B/32\"\n",
    "BATCH_SIZE = 64\n",
    "EPOCHS = 20\n",
    "PATIENCE = 5\n",
    "LR_HEAD = 1e-3\n",
    "NUM_WORKERS = 4\n",
    "SEED = 42\n",
    "torch.manual_seed(SEED)\n",
    "np.random.seed(SEED)\n",
    "\n",
    "device = \"cuda\" if torch.cuda.is_available() else \"cpu\"\n",
    "print(\"Device:\", device)\n"
   ]
  },
  {
   "cell_type": "code",
   "execution_count": 5,
   "id": "eadacc37",
   "metadata": {},
   "outputs": [
    {
     "name": "stdout",
     "output_type": "stream",
     "text": [
      "Classes: ['medical', 'non_medical']\n"
     ]
    }
   ],
   "source": [
    "model, preprocess = clip.load(MODEL_NAME, device=device)\n",
    "\n",
    "train_ds = ImageFolder(os.path.join(DATA_ROOT, \"train\"), transform=preprocess)\n",
    "val_ds   = ImageFolder(os.path.join(DATA_ROOT, \"val\"),   transform=preprocess)\n",
    "test_ds  = ImageFolder(os.path.join(DATA_ROOT, \"test\"),  transform=preprocess)\n",
    "\n",
    "train_loader = DataLoader(train_ds, batch_size=BATCH_SIZE, shuffle=True,  num_workers=NUM_WORKERS, pin_memory=True)\n",
    "val_loader   = DataLoader(val_ds,   batch_size=BATCH_SIZE, shuffle=False, num_workers=NUM_WORKERS, pin_memory=True)\n",
    "test_loader  = DataLoader(test_ds,  batch_size=BATCH_SIZE, shuffle=False, num_workers=NUM_WORKERS, pin_memory=True)\n",
    "\n",
    "print(\"Classes:\", train_ds.classes)"
   ]
  },
  {
   "cell_type": "code",
   "execution_count": 6,
   "id": "83b61181",
   "metadata": {},
   "outputs": [
    {
     "name": "stderr",
     "output_type": "stream",
     "text": [
      "C:\\Users\\abhir\\AppData\\Local\\Temp\\ipykernel_16924\\943247979.py:4: FutureWarning: `torch.cuda.amp.GradScaler(args...)` is deprecated. Please use `torch.amp.GradScaler('cuda', args...)` instead.\n",
      "  scaler = GradScaler(enabled=use_amp)\n",
      "C:\\Users\\abhir\\AppData\\Local\\Temp\\ipykernel_16924\\943247979.py:17: FutureWarning: `torch.cuda.amp.GradScaler(args...)` is deprecated. Please use `torch.amp.GradScaler('cuda', args...)` instead.\n",
      "  scaler = torch.cuda.amp.GradScaler(enabled=use_amp)\n"
     ]
    }
   ],
   "source": [
    "from torch.cuda.amp import GradScaler, autocast\n",
    "\n",
    "use_amp = torch.cuda.is_available()\n",
    "scaler = GradScaler(enabled=use_amp)\n",
    "\n",
    "for p in model.parameters():\n",
    "    p.requires_grad = False\n",
    "\n",
    "feat_dim = model.visual.output_dim\n",
    "classifier = nn.Linear(feat_dim, 2).to(device)\n",
    "\n",
    "criterion = nn.CrossEntropyLoss()\n",
    "optimizer = optim.Adam(classifier.parameters(), lr=LR_HEAD)\n",
    "\n",
    "\n",
    "use_amp = torch.cuda.is_available()\n",
    "scaler = torch.cuda.amp.GradScaler(enabled=use_amp)\n",
    "\n",
    "@torch.no_grad()\n",
    "def encode_images(x):\n",
    "    \n",
    "    with torch.cuda.amp.autocast(enabled=use_amp):\n",
    "        feats = model.encode_image(x).float()\n",
    "    return feats\n"
   ]
  },
  {
   "cell_type": "code",
   "execution_count": 7,
   "id": "9faf4336",
   "metadata": {},
   "outputs": [
    {
     "name": "stdout",
     "output_type": "stream",
     "text": [
      "Starting training...\n"
     ]
    },
    {
     "name": "stderr",
     "output_type": "stream",
     "text": [
      "C:\\Users\\abhir\\AppData\\Local\\Temp\\ipykernel_16924\\943247979.py:22: FutureWarning: `torch.cuda.amp.autocast(args...)` is deprecated. Please use `torch.amp.autocast('cuda', args...)` instead.\n",
      "  with torch.cuda.amp.autocast(enabled=use_amp):\n",
      "C:\\Users\\abhir\\AppData\\Local\\Temp\\ipykernel_16924\\3214385083.py:36: FutureWarning: `torch.cuda.amp.autocast(args...)` is deprecated. Please use `torch.amp.autocast('cuda', args...)` instead.\n",
      "  with torch.cuda.amp.autocast():\n"
     ]
    },
    {
     "name": "stdout",
     "output_type": "stream",
     "text": [
      "Epoch 01 | train_loss=0.1803 | val_loss=0.0348 | val_acc=1.0000\n",
      "Epoch 02 | train_loss=0.0236 | val_loss=0.0154 | val_acc=1.0000\n",
      "Epoch 03 | train_loss=0.0125 | val_loss=0.0092 | val_acc=1.0000\n",
      "Epoch 04 | train_loss=0.0081 | val_loss=0.0064 | val_acc=1.0000\n",
      "Epoch 05 | train_loss=0.0058 | val_loss=0.0047 | val_acc=1.0000\n",
      "Epoch 06 | train_loss=0.0044 | val_loss=0.0037 | val_acc=1.0000\n",
      "Epoch 07 | train_loss=0.0035 | val_loss=0.0030 | val_acc=1.0000\n",
      "Epoch 08 | train_loss=0.0029 | val_loss=0.0025 | val_acc=1.0000\n",
      "Epoch 09 | train_loss=0.0024 | val_loss=0.0022 | val_acc=1.0000\n",
      "Epoch 10 | train_loss=0.0020 | val_loss=0.0019 | val_acc=1.0000\n",
      "Epoch 11 | train_loss=0.0018 | val_loss=0.0017 | val_acc=1.0000\n",
      "Epoch 12 | train_loss=0.0015 | val_loss=0.0015 | val_acc=1.0000\n",
      "Epoch 13 | train_loss=0.0013 | val_loss=0.0013 | val_acc=1.0000\n",
      "Epoch 14 | train_loss=0.0012 | val_loss=0.0012 | val_acc=1.0000\n",
      "Epoch 15 | train_loss=0.0011 | val_loss=0.0011 | val_acc=1.0000\n",
      "Epoch 16 | train_loss=0.0010 | val_loss=0.0010 | val_acc=1.0000\n",
      "Epoch 17 | train_loss=0.0009 | val_loss=0.0010 | val_acc=1.0000\n",
      "Epoch 18 | train_loss=0.0008 | val_loss=0.0009 | val_acc=1.0000\n",
      "Epoch 19 | train_loss=0.0007 | val_loss=0.0008 | val_acc=1.0000\n",
      "Epoch 20 | train_loss=0.0007 | val_loss=0.0008 | val_acc=1.0000\n"
     ]
    },
    {
     "data": {
      "text/plain": [
       "<All keys matched successfully>"
      ]
     },
     "execution_count": 7,
     "metadata": {},
     "output_type": "execute_result"
    }
   ],
   "source": [
    "def evaluate(loader):\n",
    "    classifier.eval()\n",
    "    total_loss, total_correct, total = 0.0, 0, 0\n",
    "    all_y, all_p = [], []\n",
    "    with torch.no_grad():\n",
    "        for imgs, ys in loader:\n",
    "            imgs, ys = imgs.to(device), ys.to(device)\n",
    "            feats = encode_images(imgs)\n",
    "            logits = classifier(feats)\n",
    "            loss = criterion(logits, ys)\n",
    "            total_loss += loss.item() * ys.size(0)\n",
    "            preds = logits.argmax(1)\n",
    "            total_correct += (preds == ys).sum().item()\n",
    "            total += ys.size(0)\n",
    "            all_y.append(ys.cpu().numpy())\n",
    "            all_p.append(preds.cpu().numpy())\n",
    "    avg_loss = total_loss / max(1, total)\n",
    "    acc = total_correct / max(1, total)\n",
    "    all_y = np.concatenate(all_y) if all_y else np.array([])\n",
    "    all_p = np.concatenate(all_p) if all_p else np.array([])\n",
    "    return avg_loss, acc, all_y, all_p\n",
    "\n",
    "best_val = float(\"inf\")\n",
    "best_state = None\n",
    "wait = 0\n",
    "\n",
    "print(\"Starting training...\")\n",
    "for epoch in range(1, EPOCHS+1):\n",
    "    classifier.train()\n",
    "    running = 0.0\n",
    "    for imgs, ys in train_loader:\n",
    "        imgs, ys = imgs.to(device), ys.to(device)\n",
    "        feats = encode_images(imgs)\n",
    "        optimizer.zero_grad(set_to_none=True)\n",
    "        if use_amp:\n",
    "            with torch.cuda.amp.autocast():\n",
    "                logits = classifier(feats)\n",
    "                loss = criterion(logits, ys)\n",
    "            scaler.scale(loss).backward()\n",
    "            scaler.step(optimizer)\n",
    "            scaler.update()\n",
    "        else:\n",
    "            logits = classifier(feats)\n",
    "            loss = criterion(logits, ys)\n",
    "            loss.backward()\n",
    "            optimizer.step()\n",
    "        running += loss.item() * ys.size(0)\n",
    "\n",
    "    train_loss = running / max(1, len(train_ds))\n",
    "    val_loss, val_acc, _, _ = evaluate(val_loader)\n",
    "    print(f\"Epoch {epoch:02d} | train_loss={train_loss:.4f} | val_loss={val_loss:.4f} | val_acc={val_acc:.4f}\")\n",
    "\n",
    "    if val_loss < best_val:\n",
    "        best_val = val_loss\n",
    "        best_state = classifier.state_dict()\n",
    "        wait = 0\n",
    "    else:\n",
    "        wait += 1\n",
    "        if wait >= PATIENCE:\n",
    "            print(\"Early stopping.\")\n",
    "            break\n",
    "\n",
    "# Load best classifier\n",
    "classifier.load_state_dict(best_state)\n"
   ]
  },
  {
   "cell_type": "code",
   "execution_count": 8,
   "id": "b33b21e4",
   "metadata": {},
   "outputs": [
    {
     "name": "stderr",
     "output_type": "stream",
     "text": [
      "C:\\Users\\abhir\\AppData\\Local\\Temp\\ipykernel_16924\\943247979.py:22: FutureWarning: `torch.cuda.amp.autocast(args...)` is deprecated. Please use `torch.amp.autocast('cuda', args...)` instead.\n",
      "  with torch.cuda.amp.autocast(enabled=use_amp):\n"
     ]
    },
    {
     "name": "stdout",
     "output_type": "stream",
     "text": [
      "Test: loss=0.0006, acc=1.0000\n",
      "Confusion matrix:\n",
      " [[372   0]\n",
      " [  0 372]]\n",
      "              precision    recall  f1-score   support\n",
      "\n",
      "     medical       1.00      1.00      1.00       372\n",
      " non_medical       1.00      1.00      1.00       372\n",
      "\n",
      "    accuracy                           1.00       744\n",
      "   macro avg       1.00      1.00      1.00       744\n",
      "weighted avg       1.00      1.00      1.00       744\n",
      "\n",
      "['medical', 'non_medical']\n"
     ]
    }
   ],
   "source": [
    "\n",
    "test_loss, test_acc, y_true, y_pred = evaluate(test_loader)\n",
    "print(f\"Test: loss={test_loss:.4f}, acc={test_acc:.4f}\")\n",
    "print(\"Confusion matrix:\\n\", confusion_matrix(y_true, y_pred))\n",
    "print(classification_report(y_true, y_pred, target_names=train_ds.classes))\n",
    "print(train_ds.classes)"
   ]
  },
  {
   "cell_type": "code",
   "execution_count": 9,
   "id": "1768e495",
   "metadata": {},
   "outputs": [
    {
     "name": "stderr",
     "output_type": "stream",
     "text": [
      "C:\\Users\\abhir\\AppData\\Local\\Temp\\ipykernel_16924\\943247979.py:22: FutureWarning: `torch.cuda.amp.autocast(args...)` is deprecated. Please use `torch.amp.autocast('cuda', args...)` instead.\n",
      "  with torch.cuda.amp.autocast(enabled=use_amp):\n"
     ]
    },
    {
     "name": "stdout",
     "output_type": "stream",
     "text": [
      "Test: loss=0.0008, acc=1.0000\n",
      "Confusion matrix:\n",
      " [[370   0]\n",
      " [  0 370]]\n",
      "              precision    recall  f1-score   support\n",
      "\n",
      "     medical       1.00      1.00      1.00       370\n",
      " non_medical       1.00      1.00      1.00       370\n",
      "\n",
      "    accuracy                           1.00       740\n",
      "   macro avg       1.00      1.00      1.00       740\n",
      "weighted avg       1.00      1.00      1.00       740\n",
      "\n",
      "['medical', 'non_medical']\n"
     ]
    }
   ],
   "source": [
    "val_loss, val_acc, y_true, y_pred = evaluate(val_loader)\n",
    "print(f\"Test: loss={val_loss:.4f}, acc={val_acc:.4f}\")\n",
    "print(\"Confusion matrix:\\n\", confusion_matrix(y_true, y_pred))\n",
    "print(classification_report(y_true, y_pred, target_names=train_ds.classes))\n",
    "print(train_ds.classes)"
   ]
  },
  {
   "cell_type": "code",
   "execution_count": 11,
   "id": "b2db8234",
   "metadata": {},
   "outputs": [
    {
     "name": "stdout",
     "output_type": "stream",
     "text": [
      "Saved: model/clip_finetuned.pt\n"
     ]
    }
   ],
   "source": [
    "save_path = \"model/clip_finetuned.pt\"\n",
    "meta = {\n",
    "    \"model_name\": MODEL_NAME,                 # e.g., \"ViT-B/32\"\n",
    "    \"classes\": train_ds.classes,              # [\"medical\",\"non_medical\"]\n",
    "    \"preprocess_info\": \"use clip.load preprocess\",  # reminder\n",
    "    \"seed\": SEED,\n",
    "}\n",
    "torch.save({\n",
    "    \"classifier_state\": classifier.state_dict(),\n",
    "    \"meta\": meta,\n",
    "}, save_path)\n",
    "print(\"Saved:\", save_path)"
   ]
  },
  {
   "cell_type": "code",
   "execution_count": null,
   "id": "6c8cd118",
   "metadata": {},
   "outputs": [
    {
     "name": "stdout",
     "output_type": "stream",
     "text": [
      "{'medical': np.float32(0.9980819), 'non_medical': np.float32(0.0019181061)}\n"
     ]
    }
   ],
   "source": [
    "from PIL import Image\n",
    "device = \"cuda\" if torch.cuda.is_available() else \"cpu\"\n",
    "\n",
    "\n",
    "checkpoint = torch.load(\"model/clip_finetuned.pt\", map_location=device)\n",
    "model, preprocess = clip.load(checkpoint[\"meta\"][\"model_name\"], device=device)\n",
    "for p in model.parameters(): p.requires_grad = False\n",
    "\n",
    "feat_dim = model.visual.output_dim\n",
    "classifier = torch.nn.Linear(feat_dim, len(checkpoint[\"meta\"][\"classes\"])).to(device)\n",
    "classifier.load_state_dict(checkpoint[\"classifier_state\"])\n",
    "classifier.eval()\n",
    "\n",
    "\n",
    "def predict_image(image_path):\n",
    "    img = preprocess(Image.open(image_path).convert(\"RGB\")).unsqueeze(0).to(device)\n",
    "    with torch.no_grad():\n",
    "        feats = model.encode_image(img).float()\n",
    "        logits = classifier(feats)\n",
    "        probs = torch.softmax(logits, dim=1).cpu().numpy()[0]\n",
    "    cls = checkpoint[\"meta\"][\"classes\"]\n",
    "    return dict(zip(cls, probs))\n",
    "print(predict_image(\"image copy.png\"))"
   ]
  },
  {
   "cell_type": "code",
   "execution_count": null,
   "id": "542d179b",
   "metadata": {},
   "outputs": [],
   "source": []
  }
 ],
 "metadata": {
  "kernelspec": {
   "display_name": "py312",
   "language": "python",
   "name": "py312"
  },
  "language_info": {
   "codemirror_mode": {
    "name": "ipython",
    "version": 3
   },
   "file_extension": ".py",
   "mimetype": "text/x-python",
   "name": "python",
   "nbconvert_exporter": "python",
   "pygments_lexer": "ipython3",
   "version": "3.13.1"
  }
 },
 "nbformat": 4,
 "nbformat_minor": 5
}
